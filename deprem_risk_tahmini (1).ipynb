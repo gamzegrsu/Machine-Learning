{
  "nbformat": 4,
  "nbformat_minor": 0,
  "metadata": {
    "colab": {
      "provenance": []
    },
    "kernelspec": {
      "name": "python3",
      "display_name": "Python 3"
    },
    "language_info": {
      "name": "python"
    }
  },
  "cells": [
    {
      "cell_type": "code",
      "execution_count": 1,
      "metadata": {
        "id": "Yq1SxsFgnzIk"
      },
      "outputs": [],
      "source": [
        "import pandas as pd\n",
        "import math\n"
      ]
    },
    {
      "cell_type": "code",
      "source": [
        "deprem_df = pd.read_csv(\"/content/deprem_kaydi.csv\")\n",
        "deprem_df = deprem_df[deprem_df[\"ML\"] != \"-.-\"]\n",
        "deprem_df[\"ML\"] = deprem_df[\"ML\"].astype(float)"
      ],
      "metadata": {
        "id": "ZIKcnpCrob8P"
      },
      "execution_count": 4,
      "outputs": []
    },
    {
      "cell_type": "code",
      "source": [
        "istanbul_ilceleri = {\n",
        "    \"Adalar\": {\"enlem\": 40.8746, \"boylam\": 29.1228, \"zemin_sinifi\": \"C\", \"zemin_carpani\": 1.2},\n",
        "    \"Arnavutköy\": {\"enlem\": 41.2018, \"boylam\": 28.7392, \"zemin_sinifi\": \"B\", \"zemin_carpani\": 1.0},\n",
        "    \"Ataşehir\": {\"enlem\": 40.9925, \"boylam\": 29.1244, \"zemin_sinifi\": \"B\", \"zemin_carpani\": 1.0},\n",
        "    \"Avcılar\": {\"enlem\": 40.9797, \"boylam\": 28.7219, \"zemin_sinifi\": \"C\", \"zemin_carpani\": 1.2},\n",
        "    \"Bağcılar\": {\"enlem\": 41.0390, \"boylam\": 28.8567, \"zemin_sinifi\": \"C\", \"zemin_carpani\": 1.2},\n",
        "    \"Bahçelievler\": {\"enlem\": 41.0027, \"boylam\": 28.8598, \"zemin_sinifi\": \"B\", \"zemin_carpani\": 1.0},\n",
        "    \"Bakırköy\": {\"enlem\": 40.9760, \"boylam\": 28.8570, \"zemin_sinifi\": \"B\", \"zemin_carpani\": 1.0},\n",
        "    \"Başakşehir\": {\"enlem\": 41.0932, \"boylam\": 28.8028, \"zemin_sinifi\": \"B\", \"zemin_carpani\": 1.0},\n",
        "    \"Bayrampaşa\": {\"enlem\": 41.0493, \"boylam\": 28.9126, \"zemin_sinifi\": \"B\", \"zemin_carpani\": 1.0},\n",
        "    \"Beşiktaş\": {\"enlem\": 41.0438, \"boylam\": 29.0090, \"zemin_sinifi\": \"A\", \"zemin_carpani\": 0.8},\n",
        "    \"Beykoz\": {\"enlem\": 41.1256, \"boylam\": 29.1044, \"zemin_sinifi\": \"A\", \"zemin_carpani\": 0.8},\n",
        "    \"Beylikdüzü\": {\"enlem\": 41.0010, \"boylam\": 28.6416, \"zemin_sinifi\": \"C\", \"zemin_carpani\": 1.2},\n",
        "    \"Beyoğlu\": {\"enlem\": 41.0383, \"boylam\": 28.9703, \"zemin_sinifi\": \"B\", \"zemin_carpani\": 1.0},\n",
        "    \"Büyükçekmece\": {\"enlem\": 41.0200, \"boylam\": 28.5800, \"zemin_sinifi\": \"C\", \"zemin_carpani\": 1.2},\n",
        "    \"Çatalca\": {\"enlem\": 41.1450, \"boylam\": 28.4600, \"zemin_sinifi\": \"A\", \"zemin_carpani\": 0.8},\n",
        "    \"Çekmeköy\": {\"enlem\": 41.0167, \"boylam\": 29.1333, \"zemin_sinifi\": \"B\", \"zemin_carpani\": 1.0},\n",
        "    \"Esenler\": {\"enlem\": 41.0430, \"boylam\": 28.8820, \"zemin_sinifi\": \"C\", \"zemin_carpani\": 1.2},\n",
        "    \"Esenyurt\": {\"enlem\": 41.0343, \"boylam\": 28.6801, \"zemin_sinifi\": \"C\", \"zemin_carpani\": 1.2},\n",
        "    \"Eyüpsultan\": {\"enlem\": 41.0789, \"boylam\": 28.9336, \"zemin_sinifi\": \"B\", \"zemin_carpani\": 1.0},\n",
        "    \"Fatih\": {\"enlem\": 41.0166, \"boylam\": 28.9497, \"zemin_sinifi\": \"B\", \"zemin_carpani\": 1.0},\n",
        "    \"Gaziosmanpaşa\": {\"enlem\": 41.0750, \"boylam\": 28.9120, \"zemin_sinifi\": \"B\", \"zemin_carpani\": 1.0},\n",
        "    \"Güngören\": {\"enlem\": 41.0220, \"boylam\": 28.8690, \"zemin_sinifi\": \"C\", \"zemin_carpani\": 1.2},\n",
        "    \"Kadıköy\": {\"enlem\": 40.9917, \"boylam\": 29.0300, \"zemin_sinifi\": \"B\", \"zemin_carpani\": 1.0},\n",
        "    \"Kağıthane\": {\"enlem\": 41.0645, \"boylam\": 28.9648, \"zemin_sinifi\": \"B\", \"zemin_carpani\": 1.0},\n",
        "    \"Kartal\": {\"enlem\": 40.8990, \"boylam\": 29.1830, \"zemin_sinifi\": \"C\", \"zemin_carpani\": 1.2},\n",
        "    \"Küçükçekmece\": {\"enlem\": 40.9950, \"boylam\": 28.7890, \"zemin_sinifi\": \"C\", \"zemin_carpani\": 1.2},\n",
        "    \"Maltepe\": {\"enlem\": 40.9350, \"boylam\": 29.1600, \"zemin_sinifi\": \"C\", \"zemin_carpani\": 1.2},\n",
        "    \"Pendik\": {\"enlem\": 40.8798, \"boylam\": 29.2576, \"zemin_sinifi\": \"C\", \"zemin_carpani\": 1.2},\n",
        "    \"Sancaktepe\": {\"enlem\": 40.9870, \"boylam\": 29.2310, \"zemin_sinifi\": \"B\", \"zemin_carpani\": 1.0},\n",
        "    \"Sarıyer\": {\"enlem\": 41.1700, \"boylam\": 29.0500, \"zemin_sinifi\": \"A\", \"zemin_carpani\": 0.8},\n",
        "    \"Şile\": {\"enlem\": 41.1750, \"boylam\": 29.6130, \"zemin_sinifi\": \"A\", \"zemin_carpani\": 0.8},\n",
        "    \"Silivri\": {\"enlem\": 41.0730, \"boylam\": 28.2460, \"zemin_sinifi\": \"B\", \"zemin_carpani\": 1.0},\n",
        "    \"Sultanbeyli\": {\"enlem\": 40.9600, \"boylam\": 29.2700, \"zemin_sinifi\": \"C\", \"zemin_carpani\": 1.2},\n",
        "    \"Sultangazi\": {\"enlem\": 41.0930, \"boylam\": 28.9020, \"zemin_sinifi\": \"C\", \"zemin_carpani\": 1.2},\n",
        "    \"Şişli\": {\"enlem\": 41.0600, \"boylam\": 28.9870, \"zemin_sinifi\": \"B\", \"zemin_carpani\": 1.0},\n",
        "    \"Tuzla\": {\"enlem\": 40.8167, \"boylam\": 29.3000, \"zemin_sinifi\": \"C\", \"zemin_carpani\": 1.2},\n",
        "    \"Ümraniye\": {\"enlem\": 41.0330, \"boylam\": 29.1000, \"zemin_sinifi\": \"B\", \"zemin_carpani\": 1.0},\n",
        "    \"Üsküdar\": {\"enlem\": 41.0329, \"boylam\": 29.0327, \"zemin_sinifi\": \"B\", \"zemin_carpani\": 1.0},\n",
        "    \"Zeytinburnu\": {\"enlem\": 40.9930, \"boylam\": 28.9000, \"zemin_sinifi\": \"B\", \"zemin_carpani\": 1.0}\n",
        "}\n"
      ],
      "metadata": {
        "id": "AMh0nz5Folux"
      },
      "execution_count": 3,
      "outputs": []
    },
    {
      "cell_type": "code",
      "source": [
        "def haversine(lat1, lon1, lat2, lon2):\n",
        "    R = 6371.0\n",
        "    phi1 = math.radians(lat1)\n",
        "    phi2 = math.radians(lat2)\n",
        "    dphi = math.radians(lat2 - lat1)\n",
        "    dlambda = math.radians(lon2 - lon1)\n",
        "\n",
        "    a = math.sin(dphi / 2) ** 2 + math.cos(phi1) * math.cos(phi2) * math.sin(dlambda / 2) ** 2\n",
        "    c = 2 * math.atan2(math.sqrt(a), math.sqrt(1 - a))\n",
        "\n",
        "    return R * c"
      ],
      "metadata": {
        "id": "Al3yHtjQo0gM"
      },
      "execution_count": 5,
      "outputs": []
    },
    {
      "cell_type": "markdown",
      "source": [
        "R = 6371.0:\n",
        " Dünya'nın ortalama yarıçapıdır ve kilometre cinsindendir (6371 km)\n",
        "********\n",
        "phi1 = math.radians(lat1) ve phi2 = math.radians(lat2):\n",
        "\n",
        "lat1 ve lat2, sırasıyla birinci ve ikinci noktanın enlem (latitude) koordinatlarıdır.\n",
        "\n",
        "math.radians() fonksiyonu, derece cinsinden verilen açıları radiana dönüştürür çünkü trigonometric fonksiyonlar (sin, cos, vb.) radian cinsinden çalışır\n",
        "**********\n",
        "dphi = math.radians(lat2 - lat1):\n",
        "\n",
        "İki nokta arasındaki enlem farkını (yani lat2 - lat1) radiana dönüştürür.\n",
        "*******\n",
        "\n",
        "dlambda = math.radians(lon2 - lon1):\n",
        "İki nokta arasındaki boylam farkını (lon2 - lon1) radiana dönüştürür"
      ],
      "metadata": {
        "id": "WurqOLZJuT5F"
      }
    },
    {
      "cell_type": "code",
      "source": [
        "ilce_riskleri = {ilce: 0 for ilce in istanbul_ilceleri}\n",
        "\n",
        "for _, deprem in deprem_df.iterrows():\n",
        "  deprem_lat = deprem[\"Enlem\"]\n",
        "  deprem_lon = deprem[\"Boylam\"]\n",
        "  deprem_ml = deprem[\"ML\"]\n"
      ],
      "metadata": {
        "id": "o6Pv30RBpK4W"
      },
      "execution_count": 6,
      "outputs": []
    },
    {
      "cell_type": "code",
      "source": [
        "for ilce, info in istanbul_ilceleri.items():\n",
        "    mesafe = haversine(deprem_lat, deprem_lon, info[\"enlem\"], info[\"boylam\"])\n",
        "    if mesafe < 100:\n",
        "\n",
        "      risk = (deprem_ml / mesafe) * info[\"zemin_carpani\"]\n",
        "      ilce_riskleri[ilce] += risk"
      ],
      "metadata": {
        "id": "SYyw4ygBp-cj"
      },
      "execution_count": 10,
      "outputs": []
    },
    {
      "cell_type": "code",
      "source": [
        "sorted_risk = sorted(ilce_riskleri.items(), key=lambda x: x[1], reverse=True)\n",
        "\n",
        "for ilce, risk in sorted_risk:\n",
        "    print(f\"{ilce:<20} Risk Skoru: {risk:.2f}\")"
      ],
      "metadata": {
        "colab": {
          "base_uri": "https://localhost:8080/"
        },
        "id": "g0nOpnqDqB8g",
        "outputId": "f6ee7506-743b-4201-ef01-dd539d61294f"
      },
      "execution_count": 11,
      "outputs": [
        {
          "output_type": "stream",
          "name": "stdout",
          "text": [
            "Silivri              Risk Skoru: 0.29\n",
            "Büyükçekmece         Risk Skoru: 0.26\n",
            "Beylikdüzü           Risk Skoru: 0.24\n",
            "Esenyurt             Risk Skoru: 0.22\n",
            "Avcılar              Risk Skoru: 0.21\n",
            "Küçükçekmece         Risk Skoru: 0.19\n",
            "Bağcılar             Risk Skoru: 0.17\n",
            "Güngören             Risk Skoru: 0.17\n",
            "Esenler              Risk Skoru: 0.16\n",
            "Çatalca              Risk Skoru: 0.16\n",
            "Sultangazi           Risk Skoru: 0.15\n",
            "Bakırköy             Risk Skoru: 0.14\n",
            "Bahçelievler         Risk Skoru: 0.14\n",
            "Başakşehir           Risk Skoru: 0.14\n",
            "Zeytinburnu          Risk Skoru: 0.13\n",
            "Arnavutköy           Risk Skoru: 0.13\n",
            "Bayrampaşa           Risk Skoru: 0.13\n",
            "Adalar               Risk Skoru: 0.13\n",
            "Gaziosmanpaşa        Risk Skoru: 0.13\n",
            "Fatih                Risk Skoru: 0.12\n",
            "Eyüpsultan           Risk Skoru: 0.12\n",
            "Maltepe              Risk Skoru: 0.12\n",
            "Beyoğlu              Risk Skoru: 0.12\n",
            "Kartal               Risk Skoru: 0.12\n",
            "Kağıthane            Risk Skoru: 0.12\n",
            "Şişli                Risk Skoru: 0.12\n",
            "Kadıköy              Risk Skoru: 0.11\n",
            "Üsküdar              Risk Skoru: 0.11\n",
            "Pendik               Risk Skoru: 0.11\n",
            "Sultanbeyli          Risk Skoru: 0.11\n",
            "Tuzla                Risk Skoru: 0.11\n",
            "Ümraniye             Risk Skoru: 0.10\n",
            "Ataşehir             Risk Skoru: 0.10\n",
            "Çekmeköy             Risk Skoru: 0.10\n",
            "Sancaktepe           Risk Skoru: 0.09\n",
            "Beşiktaş             Risk Skoru: 0.09\n",
            "Sarıyer              Risk Skoru: 0.08\n",
            "Beykoz               Risk Skoru: 0.08\n",
            "Şile                 Risk Skoru: 0.00\n"
          ]
        }
      ]
    },
    {
      "cell_type": "markdown",
      "source": [
        "deprem_ml: Depremin moment büyüklüğü. Bu, depremin şiddetini veya gücünü temsil eder.\n",
        "\n",
        "mesafe: İlçenin deprem merkezine olan mesafesi.\n",
        "\n",
        "info[\"zemin_carpani\"]: İlçenin zemin çarpanı. Bu çarpan, o ilçedeki zemin türünün depremin etkisini ne kadar artıracağını veya azaltacağını belirler.\n",
        "!Zemin türleri deprem etkisini etkiler!\n",
        "*********\n",
        "\n",
        "Her ilçenin deprem riskini hesaplayarak, 100 kilometreden yakın olan ilçelerin risklerini belirler ve her ilçenin riskine ekler."
      ],
      "metadata": {
        "id": "-1oygnllu7BE"
      }
    },
    {
      "cell_type": "code",
      "source": [
        "!pip install folium"
      ],
      "metadata": {
        "colab": {
          "base_uri": "https://localhost:8080/"
        },
        "id": "stFz3UTBq3PD",
        "outputId": "0e7beabf-054b-4052-d118-385174013add"
      },
      "execution_count": 13,
      "outputs": [
        {
          "output_type": "stream",
          "name": "stdout",
          "text": [
            "Requirement already satisfied: folium in /usr/local/lib/python3.11/dist-packages (0.19.5)\n",
            "Requirement already satisfied: branca>=0.6.0 in /usr/local/lib/python3.11/dist-packages (from folium) (0.8.1)\n",
            "Requirement already satisfied: jinja2>=2.9 in /usr/local/lib/python3.11/dist-packages (from folium) (3.1.6)\n",
            "Requirement already satisfied: numpy in /usr/local/lib/python3.11/dist-packages (from folium) (2.0.2)\n",
            "Requirement already satisfied: requests in /usr/local/lib/python3.11/dist-packages (from folium) (2.32.3)\n",
            "Requirement already satisfied: xyzservices in /usr/local/lib/python3.11/dist-packages (from folium) (2025.1.0)\n",
            "Requirement already satisfied: MarkupSafe>=2.0 in /usr/local/lib/python3.11/dist-packages (from jinja2>=2.9->folium) (3.0.2)\n",
            "Requirement already satisfied: charset-normalizer<4,>=2 in /usr/local/lib/python3.11/dist-packages (from requests->folium) (3.4.1)\n",
            "Requirement already satisfied: idna<4,>=2.5 in /usr/local/lib/python3.11/dist-packages (from requests->folium) (3.10)\n",
            "Requirement already satisfied: urllib3<3,>=1.21.1 in /usr/local/lib/python3.11/dist-packages (from requests->folium) (2.3.0)\n",
            "Requirement already satisfied: certifi>=2017.4.17 in /usr/local/lib/python3.11/dist-packages (from requests->folium) (2025.1.31)\n"
          ]
        }
      ]
    },
    {
      "cell_type": "code",
      "source": [
        "import folium"
      ],
      "metadata": {
        "id": "CK5Rz7jEq8P7"
      },
      "execution_count": 14,
      "outputs": []
    },
    {
      "cell_type": "code",
      "source": [
        "i = folium.Map(location=[41.0082, 28.9784], zoom_start=10)\n",
        "\n",
        "maks_risk = max(ilce_riskleri.values())\n"
      ],
      "metadata": {
        "id": "ASzJOO74q-en"
      },
      "execution_count": 15,
      "outputs": []
    },
    {
      "cell_type": "code",
      "source": [
        "for ilce, risk in ilce_riskleri.items():\n",
        "    lat = istanbul_ilceleri[ilce][\"enlem\"]\n",
        "    lon = istanbul_ilceleri[ilce][\"boylam\"]\n",
        "    renk = \"green\"\n",
        "    if risk > maks_risk * 0.66:\n",
        "        renk = \"red\"\n",
        "    elif risk > maks_risk * 0.33:\n",
        "        renk = \"orange\"\n",
        "\n",
        "    folium.CircleMarker(\n",
        "        location=(lat, lon),\n",
        "        radius=10,\n",
        "        color=renk,\n",
        "        fill=True,\n",
        "        fill_opacity=0.7,\n",
        "        popup=f\"{ilce}\\nRisk Skoru: {risk:.2f}\"\n",
        "    ).add_to(i)"
      ],
      "metadata": {
        "id": "Mzo_UfWnrVwd"
      },
      "execution_count": 19,
      "outputs": []
    },
    {
      "cell_type": "code",
      "source": [
        "i.save(\"risk_haritasi.html\")"
      ],
      "metadata": {
        "id": "VAXa97pFrgwD"
      },
      "execution_count": 20,
      "outputs": []
    }
  ]
}